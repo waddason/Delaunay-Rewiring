{
  "cells": [
    {
      "cell_type": "markdown",
      "metadata": {
        "id": "nWhFueeANvHz"
      },
      "source": [
        "\\# **Notebook for reproducing Delauney Rewiring results**"
      ]
    },
    {
      "cell_type": "code",
      "execution_count": 1,
      "metadata": {
        "colab": {
          "base_uri": "https://localhost:8080/"
        },
        "id": "SybjTKqRT6Pb",
        "outputId": "9c0ff2d2-e711-45ab-c477-43af6b9b0dfd"
      },
      "outputs": [
        {
          "name": "stdout",
          "output_type": "stream",
          "text": [
            "2.6.0+cu124\n"
          ]
        }
      ],
      "source": [
        "# Install required packages.\n",
        "import os\n",
        "import torch\n",
        "\n",
        "os.environ[\"TORCH\"] = torch.__version__\n",
        "print(torch.__version__)\n",
        "\n",
        "# !pip install -q git+https://github.com/pyg-team/pytorch_geometric.git\n",
        "\n",
        "# %matplotlib inline\n",
        "import matplotlib.pyplot as plt\n",
        "from sklearn.manifold import TSNE\n",
        "\n",
        "\n",
        "def visualize(h, color):\n",
        "    reducer = umap.UMAP(n_components=2)\n",
        "    z = reducer.fit_transform(data.x)\n",
        "\n",
        "    plt.figure(figsize=(10, 10))\n",
        "    plt.xticks([])\n",
        "    plt.yticks([])\n",
        "\n",
        "    plt.scatter(z[:, 0], z[:, 1], s=70, c=color, cmap=\"Set2\")\n",
        "    plt.show()"
      ]
    },
    {
      "cell_type": "code",
      "execution_count": 2,
      "metadata": {
        "colab": {
          "base_uri": "https://localhost:8080/"
        },
        "id": "9EOksuicg8tR",
        "outputId": "1786c09b-938b-45aa-cb6e-719a22336f50"
      },
      "outputs": [],
      "source": [
        "# !pip install -U umap-learn ml_dtypes"
      ]
    },
    {
      "cell_type": "code",
      "execution_count": 3,
      "metadata": {
        "id": "ad7cXCwihCCe"
      },
      "outputs": [
        {
          "name": "stderr",
          "output_type": "stream",
          "text": [
            "/home/edwin/Projects/Delaunay/.venv/lib/python3.10/site-packages/tqdm/auto.py:21: TqdmWarning: IProgress not found. Please update jupyter and ipywidgets. See https://ipywidgets.readthedocs.io/en/stable/user_install.html\n",
            "  from .autonotebook import tqdm as notebook_tqdm\n"
          ]
        }
      ],
      "source": [
        "import umap"
      ]
    },
    {
      "cell_type": "markdown",
      "metadata": {
        "id": "HMqwbMW9-ZTi"
      },
      "source": [
        "An example from the Roman-Empire dataset"
      ]
    },
    {
      "cell_type": "code",
      "execution_count": 4,
      "metadata": {
        "id": "BlXvVa2xygTh"
      },
      "outputs": [],
      "source": [
        "from torch_geometric.datasets import (\n",
        "    Planetoid,\n",
        "    Amazon,\n",
        "    WebKB,\n",
        "    HeterophilousGraphDataset,\n",
        "    WikipediaNetwork,\n",
        "    CitationFull,\n",
        "    Actor,\n",
        ")\n",
        "from torch_geometric.transforms import NormalizeFeatures\n",
        "from torch_geometric.utils import (\n",
        "    homophily,\n",
        "    add_self_loops,\n",
        "    is_undirected,\n",
        "    to_networkx,\n",
        "    from_networkx,\n",
        "    to_undirected,\n",
        "    to_dense_adj,\n",
        "    dense_to_sparse,\n",
        "    contains_self_loops,\n",
        ")\n",
        "import time"
      ]
    },
    {
      "cell_type": "code",
      "execution_count": 5,
      "metadata": {
        "colab": {
          "base_uri": "https://localhost:8080/"
        },
        "id": "J1zUL5K6UPAf",
        "outputId": "57da6e57-d0b0-4bc5-b33b-4a1a18cfdc27"
      },
      "outputs": [
        {
          "name": "stdout",
          "output_type": "stream",
          "text": [
            "\n",
            "Dataset: wisconsin():\n",
            "======================\n",
            "Number of graphs: 1\n",
            "Number of features: 1703\n",
            "Number of classes: 5\n",
            "\n",
            "Data(x=[251, 1703], edge_index=[2, 515], y=[251], train_mask=[251, 10], val_mask=[251, 10], test_mask=[251, 10])\n",
            "===========================================================================================================\n",
            "Number of nodes: 251\n",
            "Number of edges: 515\n",
            "Average node degree: 2.05\n",
            "Number of training nodes: 1200\n",
            "Training node label rate: 4.78\n",
            "Has isolated nodes: False\n",
            "Has self-loops: True\n",
            "Is undirected: False\n"
          ]
        }
      ],
      "source": [
        "# dataset = Planetoid(root='data/Planetoid', name='Cora', transform=NormalizeFeatures())\n",
        "# dataset = Amazon(root='data/amazon', name='photo', transform=NormalizeFeatures())\n",
        "dataset = WebKB(root=\"data/\", name=\"Wisconsin\", transform=NormalizeFeatures())\n",
        "# dataset = CitationFull(root='data/Citeseer', name='Citeseer', to_undirected = False)#\n",
        "# dataset = WikipediaNetwork(root='data/WikipediaNetwork', name='squirrel')#, transform=NormalizeFeatures())\n",
        "# dataset = HeterophilousGraphDataset(root='data/Roman-Empire', name='Roman-Empire')#,transform=NormalizeFeatures())\n",
        "# dataset = Actor(root='data/Actor')\n",
        "# dataset = Twitch(root='data/twitch',name='DE')\n",
        "# dataset = DeezerEurope(root='data/DeezerEurope')\n",
        "# dataset = Flickr(root='data/Flickr')\n",
        "# dataset =  LINKXDataset(root='data/LINKXDataset',name='genius')\n",
        "\n",
        "print()\n",
        "print(f\"Dataset: {dataset}:\")\n",
        "print(\"======================\")\n",
        "print(f\"Number of graphs: {len(dataset)}\")\n",
        "print(f\"Number of features: {dataset.num_features}\")\n",
        "print(f\"Number of classes: {dataset.num_classes}\")\n",
        "\n",
        "data = dataset[0]  # Get the first graph object.\n",
        "\n",
        "print()\n",
        "print(data)\n",
        "print(\n",
        "    \"===========================================================================================================\"\n",
        ")\n",
        "\n",
        "# Gather some statistics about the graph.\n",
        "print(f\"Number of nodes: {data.num_nodes}\")\n",
        "print(f\"Number of edges: {data.num_edges}\")\n",
        "print(f\"Average node degree: {data.num_edges / data.num_nodes:.2f}\")\n",
        "\n",
        "\n",
        "print(f\"Number of training nodes: {data.train_mask.sum()}\")\n",
        "print(\n",
        "    f\"Training node label rate: {int(data.train_mask.sum()) / data.num_nodes:.2f}\"\n",
        ")\n",
        "print(f\"Has isolated nodes: {data.has_isolated_nodes()}\")\n",
        "print(f\"Has self-loops: {data.has_self_loops()}\")\n",
        "print(f\"Is undirected: {data.is_undirected()}\")\n",
        "\n",
        "data_und = to_undirected(data.edge_index)\n",
        "# data_und,_= add_self_loops(data_und, num_nodes=data.num_nodes)"
      ]
    },
    {
      "cell_type": "markdown",
      "metadata": {
        "id": "P0WA6smTPtaQ"
      },
      "source": [
        "Dimension reduction with UMAP"
      ]
    },
    {
      "cell_type": "code",
      "execution_count": 6,
      "metadata": {
        "colab": {
          "base_uri": "https://localhost:8080/"
        },
        "id": "k21yLP6V-7iq",
        "outputId": "54d8de05-eeca-4fb4-e8cf-bb4478bab48c"
      },
      "outputs": [
        {
          "name": "stderr",
          "output_type": "stream",
          "text": [
            "/home/edwin/Projects/Delaunay/.venv/lib/python3.10/site-packages/sklearn/utils/deprecation.py:151: FutureWarning: 'force_all_finite' was renamed to 'ensure_all_finite' in 1.6 and will be removed in 1.8.\n",
            "  warnings.warn(\n",
            "/home/edwin/Projects/Delaunay/.venv/lib/python3.10/site-packages/numba/np/ufunc/parallel.py:371: NumbaWarning: The TBB threading layer requires TBB version 2021 update 6 or later i.e., TBB_INTERFACE_VERSION >= 12060. Found TBB_INTERFACE_VERSION = 12050. The TBB threading layer is disabled.\n",
            "  warnings.warn(problem)\n"
          ]
        },
        {
          "data": {
            "text/plain": [
              "numpy.ndarray"
            ]
          },
          "execution_count": 6,
          "metadata": {},
          "output_type": "execute_result"
        }
      ],
      "source": [
        "reducer = umap.UMAP(n_components=2)\n",
        "reduced_data = reducer.fit_transform(data.x)\n",
        "type(reduced_data)"
      ]
    },
    {
      "cell_type": "markdown",
      "metadata": {
        "id": "w-uINbgYP1Yf"
      },
      "source": [
        "Build the graph"
      ]
    },
    {
      "cell_type": "code",
      "execution_count": 7,
      "metadata": {
        "colab": {
          "base_uri": "https://localhost:8080/"
        },
        "id": "zneulsgIUZZn",
        "outputId": "9f55b32b-49b0-498b-e368-63b2ee894468"
      },
      "outputs": [
        {
          "name": "stdout",
          "output_type": "stream",
          "text": [
            "0.006336688995361328\n"
          ]
        }
      ],
      "source": [
        "import torch\n",
        "import torch_geometric\n",
        "import networkx as nx\n",
        "from scipy.spatial import Delaunay\n",
        "import time\n",
        "\n",
        "\n",
        "def create_delaunay_graph(positions):\n",
        "    positions = positions.cpu().numpy()\n",
        "    start_time = time.time()\n",
        "    delaunay = Delaunay(positions, qhull_options=\"QJ\")\n",
        "\n",
        "    edges = []\n",
        "    for simplex in delaunay.simplices:\n",
        "        for i in range(3):\n",
        "            for j in range(i + 1, 3):\n",
        "                edge = (simplex[i], simplex[j])\n",
        "                edgess = (simplex[j], simplex[i])\n",
        "                edges.append(edge)\n",
        "                edges.append(edgess)\n",
        "\n",
        "    delaunay_graph = nx.Graph(edges)\n",
        "\n",
        "    edge_index = torch.tensor(list(delaunay_graph.edges)).t().contiguous()\n",
        "    data = torch_geometric.data.Data(edge_index=edge_index)\n",
        "    print(time.time() - start_time)\n",
        "    return data\n",
        "\n",
        "\n",
        "new_data = create_delaunay_graph(torch.tensor(reduced_data))\n",
        "delauney_G = to_undirected(new_data.edge_index)"
      ]
    },
    {
      "cell_type": "code",
      "execution_count": 8,
      "metadata": {
        "colab": {
          "base_uri": "https://localhost:8080/",
          "height": 927
        },
        "id": "rfRqq2etZuCl",
        "outputId": "47903abd-1e28-4e82-fd0f-e432c048d0b6"
      },
      "outputs": [
        {
          "data": {
            "image/png": "[encoded data removed]",
            "text/plain": [
              "<Figure size 640x480 with 1 Axes>"
            ]
          },
          "metadata": {},
          "output_type": "display_data"
        },
        {
          "data": {
            "image/png": "[encoded data removed]",
            "text/plain": [
              "<Figure size 640x480 with 1 Axes>"
            ]
          },
          "metadata": {},
          "output_type": "display_data"
        }
      ],
      "source": [
        "import numpy as np\n",
        "import matplotlib.pyplot as plt\n",
        "import networkx as nx\n",
        "\n",
        "\n",
        "def repart_D(edge):\n",
        "    edge_list = edge.T.numpy().tolist()\n",
        "\n",
        "    G = nx.Graph(edge_list)\n",
        "\n",
        "    degrees = [val for (node, val) in G.degree()]\n",
        "\n",
        "    plt.hist(\n",
        "        degrees,\n",
        "        bins=range(min(degrees), max(degrees) + 1),\n",
        "        alpha=0.7,\n",
        "        color=\"b\",\n",
        "        edgecolor=\"black\",\n",
        "    )\n",
        "    plt.xlabel(\"Degres\")\n",
        "    plt.ylabel(\"Number of nodes\")\n",
        "    plt.title(\"Histogram of degree distribution\")\n",
        "    plt.grid(True)\n",
        "    plt.show()\n",
        "    return degrees\n",
        "\n",
        "\n",
        "degrees_O = repart_D(data_und)\n",
        "degrees_Delau = repart_D(delauney_G)"
      ]
    },
    {
      "cell_type": "code",
      "execution_count": 9,
      "metadata": {
        "colab": {
          "base_uri": "https://localhost:8080/"
        },
        "id": "9xw9_jQAQ-Y0",
        "outputId": "5ac96706-e002-4249-b653-b245d5112a42"
      },
      "outputs": [
        {
          "name": "stdout",
          "output_type": "stream",
          "text": [
            "original Graph\n",
            "Max degree: 122\n",
            "Min : 1\n",
            "Mean degree : 3.7131474103585655\n",
            "----------------\n",
            "Delauney Graph\n",
            "Max degree: 12\n",
            "Min : 3\n",
            "Mean degree : 5.8326693227091635\n"
          ]
        }
      ],
      "source": [
        "import numpy as np\n",
        "\n",
        "\n",
        "def D_info(edge):\n",
        "    G = nx.Graph()\n",
        "    G.add_edges_from(edge.t().tolist())\n",
        "\n",
        "    degrees = dict(G.degree())\n",
        "\n",
        "    max_degree = np.max(list(degrees.values()))\n",
        "    min_degree = np.min(list(degrees.values()))\n",
        "    avg_degree = np.mean(list(degrees.values()))\n",
        "\n",
        "    print(\"Max degree:\", max_degree)\n",
        "    print(\"Min :\", min_degree)\n",
        "    print(\"Mean degree :\", avg_degree)\n",
        "\n",
        "\n",
        "print(\"original Graph\")\n",
        "D_info(data_und)\n",
        "print(\"----------------\")\n",
        "print(\"Delauney Graph\")\n",
        "D_info(delauney_G)"
      ]
    },
    {
      "cell_type": "markdown",
      "metadata": {
        "id": "2hbMk7uAx4sA"
      },
      "source": [
        "Import the libraries needed to calculate the curvature"
      ]
    },
    {
      "cell_type": "code",
      "execution_count": 10,
      "metadata": {
        "colab": {
          "base_uri": "https://localhost:8080/",
          "height": 289
        },
        "id": "C3EIddJ2UUud",
        "outputId": "bed83649-674c-4cd9-afba-96253db3a46f"
      },
      "outputs": [
        {
          "data": {
            "text/html": [
              "\n",
              "\t\t\t<script type=\"text/javascript\">\n",
              "\t\t\t<!--\n",
              "\t\t\t\t\n",
              "\t\t\t{\n",
              "\t\t\t\tvar element = document.getElementById('NetworKit_script');\n",
              "\t\t\t\tif (element) {\n",
              "\t\t\t\t\telement.parentNode.removeChild(element);\n",
              "\t\t\t\t}\n",
              "\t\t\t\telement = document.createElement('script');\n",
              "\t\t\t\telement.type = 'text/javascript';\n",
              "\t\t\t\telement.innerHTML = 'function NetworKit_pageEmbed(id) { var i, j; var elements; elements = document.getElementById(id).getElementsByClassName(\"Plot\"); for (i=0; i<elements.length; i++) { elements[i].id = id + \"_Plot_\" + i; var data = elements[i].getAttribute(\"data-image\").split(\"|\"); elements[i].removeAttribute(\"data-image\"); var content = \"<div class=\\\\\"Image\\\\\" id=\\\\\"\" + elements[i].id + \"_Image\\\\\" />\"; elements[i].innerHTML = content; elements[i].setAttribute(\"data-image-index\", 0); elements[i].setAttribute(\"data-image-length\", data.length); for (j=0; j<data.length; j++) { elements[i].setAttribute(\"data-image-\" + j, data[j]); } NetworKit_plotUpdate(elements[i]); elements[i].onclick = function (e) { NetworKit_overlayShow((e.target) ? e.target : e.srcElement); } } elements = document.getElementById(id).getElementsByClassName(\"HeatCell\"); for (i=0; i<elements.length; i++) { var data = parseFloat(elements[i].getAttribute(\"data-heat\")); var color = \"#00FF00\"; if (data <= 1 && data > 0) { color = \"hsla(0, 100%, 75%, \" + (data) + \")\"; } else if (data <= 0 && data >= -1) { color = \"hsla(240, 100%, 75%, \" + (-data) + \")\"; } elements[i].style.backgroundColor = color; } elements = document.getElementById(id).getElementsByClassName(\"Details\"); for (i=0; i<elements.length; i++) { elements[i].setAttribute(\"data-title\", \"-\"); NetworKit_toggleDetails(elements[i]); elements[i].onclick = function (e) { NetworKit_toggleDetails((e.target) ? e.target : e.srcElement); } } elements = document.getElementById(id).getElementsByClassName(\"MathValue\"); for (i=elements.length-1; i>=0; i--) { value = elements[i].innerHTML.trim(); if (value === \"nan\") { elements[i].parentNode.innerHTML = \"\" } } elements = document.getElementById(id).getElementsByClassName(\"SubCategory\"); for (i=elements.length-1; i>=0; i--) { value = elements[i].innerHTML.trim(); if (value === \"\") { elements[i].parentNode.removeChild(elements[i]) } } elements = document.getElementById(id).getElementsByClassName(\"Category\"); for (i=elements.length-1; i>=0; i--) { value = elements[i].innerHTML.trim(); if (value === \"\") { elements[i].parentNode.removeChild(elements[i]) } } var isFirefox = false; try { isFirefox = typeof InstallTrigger !== \"undefined\"; } catch (e) {} if (!isFirefox) { alert(\"Currently the function\\'s output is only fully supported by Firefox.\"); } } function NetworKit_plotUpdate(source) { var index = source.getAttribute(\"data-image-index\"); var data = source.getAttribute(\"data-image-\" + index); var image = document.getElementById(source.id + \"_Image\"); image.style.backgroundImage = \"url(\" + data + \")\"; } function NetworKit_showElement(id, show) { var element = document.getElementById(id); element.style.display = (show) ? \"block\" : \"none\"; } function NetworKit_overlayShow(source) { NetworKit_overlayUpdate(source); NetworKit_showElement(\"NetworKit_Overlay\", true); } function NetworKit_overlayUpdate(source) { document.getElementById(\"NetworKit_Overlay_Title\").innerHTML = source.title; var index = source.getAttribute(\"data-image-index\"); var data = source.getAttribute(\"data-image-\" + index); var image = document.getElementById(\"NetworKit_Overlay_Image\"); image.setAttribute(\"data-id\", source.id); image.style.backgroundImage = \"url(\" + data + \")\"; var link = document.getElementById(\"NetworKit_Overlay_Toolbar_Bottom_Save\"); link.href = data; link.download = source.title + \".svg\"; } function NetworKit_overlayImageShift(delta) { var image = document.getElementById(\"NetworKit_Overlay_Image\"); var source = document.getElementById(image.getAttribute(\"data-id\")); var index = parseInt(source.getAttribute(\"data-image-index\")); var length = parseInt(source.getAttribute(\"data-image-length\")); var index = (index+delta) % length; if (index < 0) { index = length + index; } source.setAttribute(\"data-image-index\", index); NetworKit_overlayUpdate(source); } function NetworKit_toggleDetails(source) { var childs = source.children; var show = false; if (source.getAttribute(\"data-title\") == \"-\") { source.setAttribute(\"data-title\", \"+\"); show = false; } else { source.setAttribute(\"data-title\", \"-\"); show = true; } for (i=0; i<childs.length; i++) { if (show) { childs[i].style.display = \"block\"; } else { childs[i].style.display = \"none\"; } } }';\n",
              "\t\t\t\telement.setAttribute('id', 'NetworKit_script');\n",
              "\t\t\t\tdocument.head.appendChild(element);\n",
              "\t\t\t}\n",
              "\t\t\n",
              "\t\t\t\t\n",
              "\t\t\t{\n",
              "\t\t\t\tvar element = document.getElementById('NetworKit_style');\n",
              "\t\t\t\tif (element) {\n",
              "\t\t\t\t\telement.parentNode.removeChild(element);\n",
              "\t\t\t\t}\n",
              "\t\t\t\telement = document.createElement('style');\n",
              "\t\t\t\telement.type = 'text/css';\n",
              "\t\t\t\telement.innerHTML = '.NetworKit_Page { font-family: Arial, Helvetica, sans-serif; font-size: 14px; } .NetworKit_Page .Value:before { font-family: Arial, Helvetica, sans-serif; font-size: 1.05em; content: attr(data-title) \":\"; margin-left: -2.5em; padding-right: 0.5em; } .NetworKit_Page .Details .Value:before { display: block; } .NetworKit_Page .Value { font-family: monospace; white-space: pre; padding-left: 2.5em; white-space: -moz-pre-wrap !important; white-space: -pre-wrap; white-space: -o-pre-wrap; white-space: pre-wrap; word-wrap: break-word; tab-size: 4; -moz-tab-size: 4; } .NetworKit_Page .Category { clear: both; padding-left: 1em; margin-bottom: 1.5em; } .NetworKit_Page .Category:before { content: attr(data-title); font-size: 1.75em; display: block; margin-left: -0.8em; margin-bottom: 0.5em; } .NetworKit_Page .SubCategory { margin-bottom: 1.5em; padding-left: 1em; } .NetworKit_Page .SubCategory:before { font-size: 1.6em; display: block; margin-left: -0.8em; margin-bottom: 0.5em; } .NetworKit_Page .SubCategory[data-title]:before { content: attr(data-title); } .NetworKit_Page .Block { display: block; } .NetworKit_Page .Block:after { content: \".\"; visibility: hidden; display: block; height: 0; clear: both; } .NetworKit_Page .Block .Thumbnail_Overview, .NetworKit_Page .Block .Thumbnail_ScatterPlot { width: 260px; float: left; } .NetworKit_Page .Block .Thumbnail_Overview img, .NetworKit_Page .Block .Thumbnail_ScatterPlot img { width: 260px; } .NetworKit_Page .Block .Thumbnail_Overview:before, .NetworKit_Page .Block .Thumbnail_ScatterPlot:before { display: block; text-align: center; font-weight: bold; } .NetworKit_Page .Block .Thumbnail_Overview:before { content: attr(data-title); } .NetworKit_Page .HeatCell { font-family: \"Courier New\", Courier, monospace; cursor: pointer; } .NetworKit_Page .HeatCell, .NetworKit_Page .HeatCellName { display: inline; padding: 0.1em; margin-right: 2px; background-color: #FFFFFF } .NetworKit_Page .HeatCellName { margin-left: 0.25em; } .NetworKit_Page .HeatCell:before { content: attr(data-heat); display: inline-block; color: #000000; width: 4em; text-align: center; } .NetworKit_Page .Measure { clear: both; } .NetworKit_Page .Measure .Details { cursor: pointer; } .NetworKit_Page .Measure .Details:before { content: \"[\" attr(data-title) \"]\"; display: block; } .NetworKit_Page .Measure .Details .Value { border-left: 1px dotted black; margin-left: 0.4em; padding-left: 3.5em; pointer-events: none; } .NetworKit_Page .Measure .Details .Spacer:before { content: \".\"; opacity: 0.0; pointer-events: none; } .NetworKit_Page .Measure .Plot { width: 440px; height: 440px; cursor: pointer; float: left; margin-left: -0.9em; margin-right: 20px; } .NetworKit_Page .Measure .Plot .Image { background-repeat: no-repeat; background-position: center center; background-size: contain; height: 100%; pointer-events: none; } .NetworKit_Page .Measure .Stat { width: 500px; float: left; } .NetworKit_Page .Measure .Stat .Group { padding-left: 1.25em; margin-bottom: 0.75em; } .NetworKit_Page .Measure .Stat .Group .Title { font-size: 1.1em; display: block; margin-bottom: 0.3em; margin-left: -0.75em; border-right-style: dotted; border-right-width: 1px; border-bottom-style: dotted; border-bottom-width: 1px; background-color: #D0D0D0; padding-left: 0.2em; } .NetworKit_Page .Measure .Stat .Group .List { -webkit-column-count: 3; -moz-column-count: 3; column-count: 3; } .NetworKit_Page .Measure .Stat .Group .List .Entry { position: relative; line-height: 1.75em; } .NetworKit_Page .Measure .Stat .Group .List .Entry[data-tooltip]:before { position: absolute; left: 0; top: -40px; background-color: #808080; color: #ffffff; height: 30px; line-height: 30px; border-radius: 5px; padding: 0 15px; content: attr(data-tooltip); white-space: nowrap; display: none; } .NetworKit_Page .Measure .Stat .Group .List .Entry[data-tooltip]:after { position: absolute; left: 15px; top: -10px; border-top: 7px solid #808080; border-left: 7px solid transparent; border-right: 7px solid transparent; content: \"\"; display: none; } .NetworKit_Page .Measure .Stat .Group .List .Entry[data-tooltip]:hover:after, .NetworKit_Page .Measure .Stat .Group .List .Entry[data-tooltip]:hover:before { display: block; } .NetworKit_Page .Measure .Stat .Group .List .Entry .MathValue { font-family: \"Courier New\", Courier, monospace; } .NetworKit_Page .Measure:after { content: \".\"; visibility: hidden; display: block; height: 0; clear: both; } .NetworKit_Page .PartitionPie { clear: both; } .NetworKit_Page .PartitionPie img { width: 600px; } #NetworKit_Overlay { left: 0px; top: 0px; display: none; position: absolute; width: 100%; height: 100%; background-color: rgba(0,0,0,0.6); z-index: 1000; } #NetworKit_Overlay_Title { position: absolute; color: white; transform: rotate(-90deg); width: 32em; height: 32em; padding-right: 0.5em; padding-top: 0.5em; text-align: right; font-size: 40px; } #NetworKit_Overlay .button { background: white; cursor: pointer; } #NetworKit_Overlay .button:before { size: 13px; display: inline-block; text-align: center; margin-top: 0.5em; margin-bottom: 0.5em; width: 1.5em; height: 1.5em; } #NetworKit_Overlay .icon-close:before { content: \"X\"; } #NetworKit_Overlay .icon-previous:before { content: \"P\"; } #NetworKit_Overlay .icon-next:before { content: \"N\"; } #NetworKit_Overlay .icon-save:before { content: \"S\"; } #NetworKit_Overlay_Toolbar_Top, #NetworKit_Overlay_Toolbar_Bottom { position: absolute; width: 40px; right: 13px; text-align: right; z-index: 1100; } #NetworKit_Overlay_Toolbar_Top { top: 0.5em; } #NetworKit_Overlay_Toolbar_Bottom { Bottom: 0.5em; } #NetworKit_Overlay_ImageContainer { position: absolute; top: 5%; left: 5%; height: 90%; width: 90%; background-repeat: no-repeat; background-position: center center; background-size: contain; } #NetworKit_Overlay_Image { height: 100%; width: 100%; background-repeat: no-repeat; background-position: center center; background-size: contain; }';\n",
              "\t\t\t\telement.setAttribute('id', 'NetworKit_style');\n",
              "\t\t\t\tdocument.head.appendChild(element);\n",
              "\t\t\t}\n",
              "\t\t\n",
              "\t\t\t\t\n",
              "\t\t\t{\n",
              "\t\t\t\tvar element = document.getElementById('NetworKit_Overlay');\n",
              "\t\t\t\tif (element) {\n",
              "\t\t\t\t\telement.parentNode.removeChild(element);\n",
              "\t\t\t\t}\n",
              "\t\t\t\telement = document.createElement('div');\n",
              "\t\t\t\telement.innerHTML = '<div id=\"NetworKit_Overlay_Toolbar_Top\"><div class=\"button icon-close\" id=\"NetworKit_Overlay_Close\" /></div><div id=\"NetworKit_Overlay_Title\" /> <div id=\"NetworKit_Overlay_ImageContainer\"> <div id=\"NetworKit_Overlay_Image\" /> </div> <div id=\"NetworKit_Overlay_Toolbar_Bottom\"> <div class=\"button icon-previous\" onclick=\"NetworKit_overlayImageShift(-1)\" /> <div class=\"button icon-next\" onclick=\"NetworKit_overlayImageShift(1)\" /> <a id=\"NetworKit_Overlay_Toolbar_Bottom_Save\"><div class=\"button icon-save\" /></a> </div>';\n",
              "\t\t\t\telement.setAttribute('id', 'NetworKit_Overlay');\n",
              "\t\t\t\tdocument.body.appendChild(element);\n",
              "\t\t\t\tdocument.getElementById('NetworKit_Overlay_Close').onclick = function (e) {\n",
              "\t\t\t\t\tdocument.getElementById('NetworKit_Overlay').style.display = 'none';\n",
              "\t\t\t\t}\n",
              "\t\t\t}\n",
              "\t\t\n",
              "\t\t\t-->\n",
              "\t\t\t</script>\n",
              "\t\t"
            ]
          },
          "metadata": {},
          "output_type": "display_data"
        }
      ],
      "source": [
        "# !pip install GraphRicciCurvature\n",
        "from GraphRicciCurvature.OllivierRicci import OllivierRicci\n",
        "import networkx as nx\n",
        "\n",
        "# load GraphRicciCuravture package\n",
        "from GraphRicciCurvature.OllivierRicci import OllivierRicci\n",
        "from GraphRicciCurvature.FormanRicci import FormanRicci\n",
        "\n",
        "\n",
        "import networkx as nx\n",
        "import numpy as np\n",
        "import math\n",
        "\n",
        "# %matplotlib inline\n",
        "import matplotlib.pyplot as plt\n",
        "\n",
        "# to print logs in jupyter notebook\n",
        "import logging\n",
        "\n",
        "logging.basicConfig(format=\"%(levelname)s:%(message)s\", level=logging.ERROR)\n",
        "\n",
        "# load GraphRicciCuravture package\n",
        "from GraphRicciCurvature.OllivierRicci import OllivierRicci\n",
        "from GraphRicciCurvature.FormanRicci import FormanRicci"
      ]
    },
    {
      "cell_type": "markdown",
      "metadata": {
        "id": "YhZ5_Ao1T-tK"
      },
      "source": [
        "Calculate curvature according to Ollivier"
      ]
    },
    {
      "cell_type": "code",
      "execution_count": 11,
      "metadata": {
        "colab": {
          "base_uri": "https://localhost:8080/",
          "height": 610
        },
        "id": "Y6mGicxbSzMu",
        "outputId": "c5f46ad7-5e0b-4228-ef00-ca35c4cd003f"
      },
      "outputs": [
        {
          "name": "stderr",
          "output_type": "stream",
          "text": [
            "INFO:Edge weight not detected in graph, use \"weight\" as default edge weight.\n",
            "INFO:Self-loop edge detected. Removing 16 self-loop edges.\n",
            "TRACE:Number of nodes: 251\n",
            "TRACE:Number of edges: 450\n",
            "TRACE:Start to compute all pair shortest path.\n",
            "TRACE:0.022877 secs for all pair by NetworKit.\n"
          ]
        },
        {
          "name": "stdout",
          "output_type": "stream",
          "text": [
            "original Graph\n"
          ]
        },
        {
          "name": "stderr",
          "output_type": "stream",
          "text": [
            "INFO:0.142928 secs for Ricci curvature computation.\n"
          ]
        },
        {
          "name": "stdout",
          "output_type": "stream",
          "text": [
            "Premier déciles (Q1) : -0.47540983606558007\n",
            "Derniere déciles : 0.25\n",
            "----------------\n",
            "Delauney Graph\n"
          ]
        },
        {
          "name": "stderr",
          "output_type": "stream",
          "text": [
            "INFO:Edge weight not detected in graph, use \"weight\" as default edge weight.\n",
            "TRACE:Number of nodes: 251\n",
            "TRACE:Number of edges: 732\n",
            "TRACE:Start to compute all pair shortest path.\n",
            "TRACE:0.006213 secs for all pair by NetworKit.\n",
            "INFO:0.160016 secs for Ricci curvature computation.\n"
          ]
        },
        {
          "name": "stdout",
          "output_type": "stream",
          "text": [
            "Premier déciles (Q1) : -0.18333333333333335\n",
            "Derniere déciles : 0.19999999999999996\n"
          ]
        },
        {
          "data": {
            "image/png": "[encoded data removed]",
            "text/plain": [
              "<Figure size 640x480 with 1 Axes>"
            ]
          },
          "metadata": {},
          "output_type": "display_data"
        }
      ],
      "source": [
        "def show_results(edge):\n",
        "    G = nx.Graph()\n",
        "    G.add_edges_from(edge.t().tolist())\n",
        "    orc = OllivierRicci(G, alpha=0.5, verbose=\"TRACE\")\n",
        "    orc.compute_ricci_curvature()\n",
        "    G = orc.G.copy()\n",
        "    # Plot the histogram of Ricci curvatures\n",
        "    plt.subplot(2, 1, 1)\n",
        "    ricci_curvtures = nx.get_edge_attributes(G, \"ricciCurvature\").values()\n",
        "\n",
        "    values = list(ricci_curvtures)\n",
        "    values.sort()\n",
        "\n",
        "    n = len(values)\n",
        "\n",
        "    squash_index = int(n * 0.1)\n",
        "    q1 = values[squash_index]\n",
        "\n",
        "    values = list(ricci_curvtures)\n",
        "    values.sort(reverse=True)\n",
        "    n = len(values)\n",
        "\n",
        "    smooth_index = int(n * 0.1)\n",
        "    q10 = values[smooth_index]\n",
        "\n",
        "    bins = np.arange(-0.75, 1, 0.25)\n",
        "    print(\"Premier déciles (Q1) :\", q1)\n",
        "    print(\"Derniere déciles :\", q10)\n",
        "    n, bins, patches = plt.hist(ricci_curvtures)\n",
        "    plt.xlabel(\"Ricci curvature\")\n",
        "    plt.ylabel(\"Number of edges\")\n",
        "\n",
        "    plt.title(\"Histogram of Ricci Curvatures \" + str(dataset))\n",
        "\n",
        "\n",
        "print(\"original Graph\")\n",
        "show_results(data_und)\n",
        "print(\"----------------\")\n",
        "print(\"Delauney Graph\")\n",
        "show_results(delauney_G)"
      ]
    },
    {
      "cell_type": "markdown",
      "metadata": {
        "id": "Jji-UdFJ-shs"
      },
      "source": [
        "Measurement of homophily on edges presented by Zhu et al."
      ]
    },
    {
      "cell_type": "code",
      "execution_count": 12,
      "metadata": {
        "colab": {
          "base_uri": "https://localhost:8080/"
        },
        "id": "4ozJNHy2VhtR",
        "outputId": "1e74ed51-34c2-4ee9-f39b-007835c7421d"
      },
      "outputs": [
        {
          "name": "stdout",
          "output_type": "stream",
          "text": [
            "Homophily of original graph\n",
            "0.19213974475860596\n",
            "----------------------\n",
            "Homophily of Delauney graph\n",
            "0.6693989038467407\n"
          ]
        }
      ],
      "source": [
        "print(\"Homophily of original graph\")\n",
        "print(homophily(data_und, data.y))\n",
        "print(\"----------------------\")\n",
        "print(\"Homophily of Delauney graph\")\n",
        "print(homophily(delauney_G, data.y))"
      ]
    },
    {
      "cell_type": "markdown",
      "metadata": {
        "id": "ThK55SreUSsq"
      },
      "source": [
        "Add Self loops for experiments"
      ]
    },
    {
      "cell_type": "code",
      "execution_count": 13,
      "metadata": {
        "id": "WxXSWxlNUO_V"
      },
      "outputs": [],
      "source": [
        "from torch_geometric.nn import GCNConv\n",
        "import torch.nn.functional as F\n",
        "\n",
        "\n",
        "class GCN(torch.nn.Module):\n",
        "    def __init__(self, hidden_channels):\n",
        "        super().__init__()\n",
        "        self.conv1 = GCNConv(dataset.num_features, hidden_channels)\n",
        "        self.conv2 = GCNConv(hidden_channels, dataset.num_classes)\n",
        "\n",
        "    def forward(self, x):\n",
        "        x = self.conv1(x.to(device), delauney_G.to(device))\n",
        "        x = x.relu()\n",
        "        x = F.dropout(x.to(device), p=0.5, training=self.training)\n",
        "        x = self.conv2(x.to(device), delauney_G.to(device))\n",
        "        return x.to(device)"
      ]
    },
    {
      "cell_type": "code",
      "execution_count": 14,
      "metadata": {
        "id": "hm2vbJ1R6PDq"
      },
      "outputs": [],
      "source": [
        "from torch_geometric.nn import GATConv\n",
        "\n",
        "device = torch.device(\"cuda\" if torch.cuda.is_available() else \"cpu\")\n",
        "\n",
        "\n",
        "class GAT(torch.nn.Module):\n",
        "    def __init__(self, hidden_channels):\n",
        "        super().__init__()\n",
        "        self.conv1 = GATConv(\n",
        "            dataset.num_features, hidden_channels, heads=8, dropout=0.5\n",
        "        )\n",
        "        self.conv2 = GATConv(\n",
        "            hidden_channels * 8, dataset.num_classes, heads=1, dropout=0.5\n",
        "        )\n",
        "\n",
        "    def forward(self, x):\n",
        "        x = F.elu(self.conv1(x.to(device), delauney_G.to(device)))\n",
        "        x = F.dropout(x.to(device), p=0.5, training=self.training)\n",
        "        x = self.conv2(x.to(device), delauney_G.to(device))\n",
        "        return x.to(device)\n"
      ]
    },
    {
      "cell_type": "code",
      "execution_count": 15,
      "metadata": {
        "id": "HHPAR4DGdtsB"
      },
      "outputs": [],
      "source": [
        "criterion = torch.nn.CrossEntropyLoss()\n",
        "\n",
        "\n",
        "def train(t, v):\n",
        "    model.train()\n",
        "    optimizer.zero_grad()\n",
        "    out = model(data.x.to(device))\n",
        "    loss = criterion(out[data_train_mask], data.y.to(device)[data_train_mask])\n",
        "    val_loss = criterion(out[v].to(device), data.y.to(device)[v])\n",
        "    loss.backward()\n",
        "    optimizer.step()\n",
        "    return loss, val_loss\n",
        "\n",
        "\n",
        "def test(mask):\n",
        "    model.eval()\n",
        "    out = model(data.x.to(device))\n",
        "    pred = out.argmax(dim=1)\n",
        "    correct = pred[mask] == data.y.to(device)[mask]\n",
        "    acc = int(correct.sum()) / int(mask.sum())\n",
        "    return acc"
      ]
    },
    {
      "cell_type": "code",
      "execution_count": 16,
      "metadata": {
        "id": "wK06tH4EUXdb"
      },
      "outputs": [],
      "source": [
        "delauney_G, _ = add_self_loops(delauney_G, num_nodes=data.num_nodes)"
      ]
    },
    {
      "cell_type": "markdown",
      "metadata": {
        "id": "q0akACjEVwWL"
      },
      "source": [
        "An exemple of experiments on 10runs. On the paper we report the average accuracy  across 100 random samples. The hyperparameters is the same that Pei et al. (Geom-GCN: Geometric Graph Convolutional Networks)."
      ]
    },
    {
      "cell_type": "code",
      "execution_count": 17,
      "metadata": {
        "colab": {
          "base_uri": "https://localhost:8080/"
        },
        "id": "AlURyXBjdu-U",
        "outputId": "87e4641b-895c-43ea-fb6e-9e09229d5c4e"
      },
      "outputs": [
        {
          "name": "stdout",
          "output_type": "stream",
          "text": [
            "runs 0\n",
            "Test Accuracy: 0.7451\n",
            "runs 1\n",
            "Test Accuracy: 0.7451\n",
            "runs 2\n",
            "Test Accuracy: 0.6471\n",
            "runs 3\n",
            "Test Accuracy: 0.7647\n",
            "runs 4\n",
            "Test Accuracy: 0.7255\n",
            "runs 5\n",
            "Test Accuracy: 0.8627\n",
            "runs 6\n",
            "Test Accuracy: 0.6078\n",
            "runs 7\n",
            "Test Accuracy: 0.7451\n",
            "runs 8\n",
            "Test Accuracy: 0.7255\n",
            "runs 9\n",
            "Test Accuracy: 0.7647\n",
            "-------------------------\n",
            "mod GCN(\n",
            "  (conv1): GCNConv(1703, 32)\n",
            "  (conv2): GCNConv(32, 5)\n",
            ")\n",
            "hidden_channels 32\n",
            "weight_decay 5e-06\n",
            "lr 0.005\n",
            "moyenne 0.7333333333333334\n",
            "std 0.06514999108171039\n",
            "temps 4.234628677368164\n",
            "4.120447227157238\n",
            "-------------------------\n"
          ]
        }
      ],
      "source": [
        "import time\n",
        "import numpy as np\n",
        "\n",
        "ramdom = True\n",
        "moy = []\n",
        "ep = []\n",
        "T = []\n",
        "p_m = []\n",
        "nb_runs = 10\n",
        "hidden_channels = 32\n",
        "lr = 0.005\n",
        "weight_decay = 5e-6\n",
        "moy = []\n",
        "ep = []\n",
        "for runs in range(nb_runs):\n",
        "    model = GCN(hidden_channels=hidden_channels).to(device)\n",
        "    # model = GAT(hidden_channels=hidden_channels).to(device)\n",
        "    optimizer = torch.optim.Adam(\n",
        "        model.parameters(), lr=lr, weight_decay=weight_decay\n",
        "    )\n",
        "\n",
        "    criterion = torch.nn.CrossEntropyLoss()\n",
        "    print(\"runs\", runs)\n",
        "    start_time = time.time()\n",
        "    shuffled_indices = torch.randperm(len(data.y))\n",
        "\n",
        "    indices = [False for i in range(len(data.y))]\n",
        "    mask_train = [\n",
        "        True if i in shuffled_indices[: int(0.6 * len(data.y))] else False\n",
        "        for i in range(len(indices))\n",
        "    ]\n",
        "    mask_val = [\n",
        "        True\n",
        "        if i\n",
        "        in shuffled_indices[int(0.6 * len(data.y)) : int(0.8 * len(data.y))]\n",
        "        else False\n",
        "        for i in range(len(indices))\n",
        "    ]\n",
        "    mask_test = [\n",
        "        True\n",
        "        if i in shuffled_indices[int(0.8 * len(data.y)) : len(data.y)]\n",
        "        else False\n",
        "        for i in range(len(indices))\n",
        "    ]\n",
        "\n",
        "    data_train_mask = torch.tensor(mask_train)\n",
        "    data_val_mask = torch.tensor(mask_val)\n",
        "    data_test_mask = torch.tensor(mask_test)\n",
        "    best_val_acc = 0\n",
        "    i = 0\n",
        "    for epoch in range(1, 2001):\n",
        "        loss, val_loss = train(data_train_mask, data_val_mask)\n",
        "        val_acc = test(data_val_mask)\n",
        "        train_acc = test(data_train_mask)\n",
        "        test_acc = test(data_test_mask)\n",
        "        if val_acc > best_val_acc:\n",
        "            best_val_acc = val_acc\n",
        "            Test_acc = test_acc\n",
        "            i = 0\n",
        "        i = i + 1\n",
        "        # print(f'Epoch: {epoch:03d}, Loss: {loss:.4f},Train_acc: {train_acc:.4f}, val_loss: {val_loss:.4f}, val_acc: {val_acc:.4f},test_acc: {test_acc:.4f}')\n",
        "        # print(i)\n",
        "        if i == 100:\n",
        "            break\n",
        "\n",
        "    T.append(time.time() - start_time)\n",
        "    print(f\"Test Accuracy: {Test_acc:.4f}\")\n",
        "    moy.append(Test_acc)\n",
        "    ep.append(epoch)\n",
        "print(\"-------------------------\")\n",
        "print(\"mod\", model)\n",
        "print(\"hidden_channels\", hidden_channels)\n",
        "print(\"weight_decay\", weight_decay)\n",
        "print(\"lr\", lr)\n",
        "print(\"moyenne\", np.mean(moy))\n",
        "print(\"std\", np.std(moy))\n",
        "print(\"temps\", np.mean(T))\n",
        "print((2 * (np.std(moy)) / (np.sqrt(nb_runs))) * 100)\n",
        "\n",
        "print(\"-------------------------\")\n"
      ]
    },
    {
      "cell_type": "code",
      "execution_count": 18,
      "metadata": {
        "id": "REn6CTzjXnGr"
      },
      "outputs": [],
      "source": [
        "with torch.no_grad():\n",
        "    reduced_data = model(data.x)"
      ]
    }
  ],
  "metadata": {
    "colab": {
      "machine_shape": "hm",
      "provenance": []
    },
    "kernelspec": {
      "display_name": ".venv",
      "language": "python",
      "name": "python3"
    },
    "language_info": {
      "codemirror_mode": {
        "name": "ipython",
        "version": 3
      },
      "file_extension": ".py",
      "mimetype": "text/x-python",
      "name": "python",
      "nbconvert_exporter": "python",
      "pygments_lexer": "ipython3",
      "version": "3.10.12"
    }
  },
  "nbformat": 4,
  "nbformat_minor": 0
}
